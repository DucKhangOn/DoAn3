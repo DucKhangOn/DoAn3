{
 "cells": [
  {
   "cell_type": "code",
   "execution_count": 1,
   "metadata": {},
   "outputs": [],
   "source": [
    "# Khai báo các thư viện cần thiết\n",
    "import pandas as pd\n",
    "import matplotlib as mpl\n",
    "import matplotlib.pyplot as plt\n",
    "\n",
    "# Pandas tùy chỉnh\n",
    "pd.set_option('display.max_colwidth', 1000, 'display.max_rows', None, 'display.max_columns', None)\n",
    "\n",
    "# Plotting tùy chỉnh\n",
    "%matplotlib inline\n",
    "mpl.style.use('ggplot')\n",
    "\n",
    "# Đọc dữ liệu từ file csv\n",
    "transactions = pd.read_csv('C:/Users/green/Downloads/DemoDA3/creditcard.csv')"
   ]
  },
  {
   "cell_type": "code",
   "execution_count": 2,
   "metadata": {},
   "outputs": [
    {
     "name": "stdout",
     "output_type": "stream",
     "text": [
      "Credit Card Fraud Detection data -  rows: 284807  columns: 31\n"
     ]
    }
   ],
   "source": [
    "# Kích thước của dataset\n",
    "print(\"Credit Card Fraud Detection data -  rows:\",transactions.shape[0],\" columns:\", transactions.shape[1])"
   ]
  },
  {
   "cell_type": "code",
   "execution_count": 3,
   "metadata": {},
   "outputs": [
    {
     "data": {
      "text/html": [
       "<div>\n",
       "<style scoped>\n",
       "    .dataframe tbody tr th:only-of-type {\n",
       "        vertical-align: middle;\n",
       "    }\n",
       "\n",
       "    .dataframe tbody tr th {\n",
       "        vertical-align: top;\n",
       "    }\n",
       "\n",
       "    .dataframe thead th {\n",
       "        text-align: right;\n",
       "    }\n",
       "</style>\n",
       "<table border=\"1\" class=\"dataframe\">\n",
       "  <thead>\n",
       "    <tr style=\"text-align: right;\">\n",
       "      <th></th>\n",
       "      <th>Time</th>\n",
       "      <th>V1</th>\n",
       "      <th>V2</th>\n",
       "      <th>V3</th>\n",
       "      <th>V4</th>\n",
       "      <th>V5</th>\n",
       "      <th>V6</th>\n",
       "      <th>V7</th>\n",
       "      <th>V8</th>\n",
       "      <th>V9</th>\n",
       "      <th>V10</th>\n",
       "      <th>V11</th>\n",
       "      <th>V12</th>\n",
       "      <th>V13</th>\n",
       "      <th>V14</th>\n",
       "      <th>V15</th>\n",
       "      <th>V16</th>\n",
       "      <th>V17</th>\n",
       "      <th>V18</th>\n",
       "      <th>V19</th>\n",
       "      <th>V20</th>\n",
       "      <th>V21</th>\n",
       "      <th>V22</th>\n",
       "      <th>V23</th>\n",
       "      <th>V24</th>\n",
       "      <th>V25</th>\n",
       "      <th>V26</th>\n",
       "      <th>V27</th>\n",
       "      <th>V28</th>\n",
       "      <th>Amount</th>\n",
       "      <th>Class</th>\n",
       "    </tr>\n",
       "  </thead>\n",
       "  <tbody>\n",
       "    <tr>\n",
       "      <th>59374</th>\n",
       "      <td>48811.0</td>\n",
       "      <td>1.211467</td>\n",
       "      <td>0.165640</td>\n",
       "      <td>0.472042</td>\n",
       "      <td>1.032958</td>\n",
       "      <td>-0.099906</td>\n",
       "      <td>0.174685</td>\n",
       "      <td>-0.143792</td>\n",
       "      <td>0.087779</td>\n",
       "      <td>0.213612</td>\n",
       "      <td>-0.010794</td>\n",
       "      <td>0.452212</td>\n",
       "      <td>1.229415</td>\n",
       "      <td>0.435334</td>\n",
       "      <td>-0.002096</td>\n",
       "      <td>-0.859991</td>\n",
       "      <td>0.103901</td>\n",
       "      <td>-0.601382</td>\n",
       "      <td>0.111944</td>\n",
       "      <td>0.597100</td>\n",
       "      <td>-0.102969</td>\n",
       "      <td>-0.261379</td>\n",
       "      <td>-0.569661</td>\n",
       "      <td>-0.056388</td>\n",
       "      <td>-0.366827</td>\n",
       "      <td>0.575964</td>\n",
       "      <td>-0.520361</td>\n",
       "      <td>0.039664</td>\n",
       "      <td>0.010803</td>\n",
       "      <td>1.00</td>\n",
       "      <td>0</td>\n",
       "    </tr>\n",
       "    <tr>\n",
       "      <th>32027</th>\n",
       "      <td>36611.0</td>\n",
       "      <td>-0.840778</td>\n",
       "      <td>0.935760</td>\n",
       "      <td>1.503474</td>\n",
       "      <td>0.129457</td>\n",
       "      <td>-0.349554</td>\n",
       "      <td>-0.583203</td>\n",
       "      <td>0.709837</td>\n",
       "      <td>0.049221</td>\n",
       "      <td>0.310527</td>\n",
       "      <td>-0.154802</td>\n",
       "      <td>-1.015387</td>\n",
       "      <td>-0.524254</td>\n",
       "      <td>-1.372489</td>\n",
       "      <td>-0.012732</td>\n",
       "      <td>-0.264116</td>\n",
       "      <td>-0.370140</td>\n",
       "      <td>0.115375</td>\n",
       "      <td>-0.391553</td>\n",
       "      <td>0.363592</td>\n",
       "      <td>0.144844</td>\n",
       "      <td>-0.233974</td>\n",
       "      <td>-0.398455</td>\n",
       "      <td>-0.095359</td>\n",
       "      <td>0.386643</td>\n",
       "      <td>0.001768</td>\n",
       "      <td>0.248674</td>\n",
       "      <td>0.428421</td>\n",
       "      <td>0.232806</td>\n",
       "      <td>40.63</td>\n",
       "      <td>0</td>\n",
       "    </tr>\n",
       "    <tr>\n",
       "      <th>206800</th>\n",
       "      <td>136378.0</td>\n",
       "      <td>1.883602</td>\n",
       "      <td>-0.808253</td>\n",
       "      <td>-1.849872</td>\n",
       "      <td>-0.764916</td>\n",
       "      <td>1.758524</td>\n",
       "      <td>3.735088</td>\n",
       "      <td>-1.016969</td>\n",
       "      <td>0.989247</td>\n",
       "      <td>0.861279</td>\n",
       "      <td>-0.009335</td>\n",
       "      <td>0.001254</td>\n",
       "      <td>0.431651</td>\n",
       "      <td>-0.019172</td>\n",
       "      <td>0.151339</td>\n",
       "      <td>0.938402</td>\n",
       "      <td>0.344230</td>\n",
       "      <td>-0.582177</td>\n",
       "      <td>-0.618850</td>\n",
       "      <td>-0.178475</td>\n",
       "      <td>0.001319</td>\n",
       "      <td>-0.230978</td>\n",
       "      <td>-0.806520</td>\n",
       "      <td>0.432593</td>\n",
       "      <td>0.692862</td>\n",
       "      <td>-0.630443</td>\n",
       "      <td>0.247344</td>\n",
       "      <td>-0.030556</td>\n",
       "      <td>-0.040340</td>\n",
       "      <td>63.93</td>\n",
       "      <td>0</td>\n",
       "    </tr>\n",
       "    <tr>\n",
       "      <th>221433</th>\n",
       "      <td>142569.0</td>\n",
       "      <td>2.002046</td>\n",
       "      <td>-0.070866</td>\n",
       "      <td>-1.845985</td>\n",
       "      <td>0.343959</td>\n",
       "      <td>0.602313</td>\n",
       "      <td>-0.773681</td>\n",
       "      <td>0.602403</td>\n",
       "      <td>-0.433046</td>\n",
       "      <td>0.148602</td>\n",
       "      <td>0.027594</td>\n",
       "      <td>-0.718873</td>\n",
       "      <td>1.059588</td>\n",
       "      <td>1.380692</td>\n",
       "      <td>0.117048</td>\n",
       "      <td>-0.499663</td>\n",
       "      <td>-0.624671</td>\n",
       "      <td>-0.167210</td>\n",
       "      <td>-1.027237</td>\n",
       "      <td>0.160834</td>\n",
       "      <td>-0.013085</td>\n",
       "      <td>0.004029</td>\n",
       "      <td>0.151261</td>\n",
       "      <td>0.041610</td>\n",
       "      <td>0.705762</td>\n",
       "      <td>0.230279</td>\n",
       "      <td>0.527307</td>\n",
       "      <td>-0.098780</td>\n",
       "      <td>-0.059568</td>\n",
       "      <td>55.95</td>\n",
       "      <td>0</td>\n",
       "    </tr>\n",
       "    <tr>\n",
       "      <th>42258</th>\n",
       "      <td>41016.0</td>\n",
       "      <td>-1.283617</td>\n",
       "      <td>0.788903</td>\n",
       "      <td>1.116795</td>\n",
       "      <td>1.530067</td>\n",
       "      <td>-0.144005</td>\n",
       "      <td>-0.364828</td>\n",
       "      <td>0.111039</td>\n",
       "      <td>0.531096</td>\n",
       "      <td>-0.242631</td>\n",
       "      <td>-0.172977</td>\n",
       "      <td>-0.627450</td>\n",
       "      <td>-0.076126</td>\n",
       "      <td>-1.072716</td>\n",
       "      <td>0.496712</td>\n",
       "      <td>0.298446</td>\n",
       "      <td>-1.138455</td>\n",
       "      <td>0.952393</td>\n",
       "      <td>-0.625531</td>\n",
       "      <td>0.640571</td>\n",
       "      <td>-0.119733</td>\n",
       "      <td>0.005222</td>\n",
       "      <td>0.269849</td>\n",
       "      <td>0.304351</td>\n",
       "      <td>0.392463</td>\n",
       "      <td>-0.065117</td>\n",
       "      <td>-0.236086</td>\n",
       "      <td>0.221314</td>\n",
       "      <td>0.095940</td>\n",
       "      <td>17.18</td>\n",
       "      <td>0</td>\n",
       "    </tr>\n",
       "  </tbody>\n",
       "</table>\n",
       "</div>"
      ],
      "text/plain": [
       "            Time        V1        V2        V3        V4        V5        V6  \\\n",
       "59374    48811.0  1.211467  0.165640  0.472042  1.032958 -0.099906  0.174685   \n",
       "32027    36611.0 -0.840778  0.935760  1.503474  0.129457 -0.349554 -0.583203   \n",
       "206800  136378.0  1.883602 -0.808253 -1.849872 -0.764916  1.758524  3.735088   \n",
       "221433  142569.0  2.002046 -0.070866 -1.845985  0.343959  0.602313 -0.773681   \n",
       "42258    41016.0 -1.283617  0.788903  1.116795  1.530067 -0.144005 -0.364828   \n",
       "\n",
       "              V7        V8        V9       V10       V11       V12       V13  \\\n",
       "59374  -0.143792  0.087779  0.213612 -0.010794  0.452212  1.229415  0.435334   \n",
       "32027   0.709837  0.049221  0.310527 -0.154802 -1.015387 -0.524254 -1.372489   \n",
       "206800 -1.016969  0.989247  0.861279 -0.009335  0.001254  0.431651 -0.019172   \n",
       "221433  0.602403 -0.433046  0.148602  0.027594 -0.718873  1.059588  1.380692   \n",
       "42258   0.111039  0.531096 -0.242631 -0.172977 -0.627450 -0.076126 -1.072716   \n",
       "\n",
       "             V14       V15       V16       V17       V18       V19       V20  \\\n",
       "59374  -0.002096 -0.859991  0.103901 -0.601382  0.111944  0.597100 -0.102969   \n",
       "32027  -0.012732 -0.264116 -0.370140  0.115375 -0.391553  0.363592  0.144844   \n",
       "206800  0.151339  0.938402  0.344230 -0.582177 -0.618850 -0.178475  0.001319   \n",
       "221433  0.117048 -0.499663 -0.624671 -0.167210 -1.027237  0.160834 -0.013085   \n",
       "42258   0.496712  0.298446 -1.138455  0.952393 -0.625531  0.640571 -0.119733   \n",
       "\n",
       "             V21       V22       V23       V24       V25       V26       V27  \\\n",
       "59374  -0.261379 -0.569661 -0.056388 -0.366827  0.575964 -0.520361  0.039664   \n",
       "32027  -0.233974 -0.398455 -0.095359  0.386643  0.001768  0.248674  0.428421   \n",
       "206800 -0.230978 -0.806520  0.432593  0.692862 -0.630443  0.247344 -0.030556   \n",
       "221433  0.004029  0.151261  0.041610  0.705762  0.230279  0.527307 -0.098780   \n",
       "42258   0.005222  0.269849  0.304351  0.392463 -0.065117 -0.236086  0.221314   \n",
       "\n",
       "             V28  Amount  Class  \n",
       "59374   0.010803    1.00      0  \n",
       "32027   0.232806   40.63      0  \n",
       "206800 -0.040340   63.93      0  \n",
       "221433 -0.059568   55.95      0  \n",
       "42258   0.095940   17.18      0  "
      ]
     },
     "execution_count": 3,
     "metadata": {},
     "output_type": "execute_result"
    }
   ],
   "source": [
    "# 5 dòng dữ liệu ngẫu nhiên\n",
    "transactions.sample(5)"
   ]
  },
  {
   "cell_type": "code",
   "execution_count": 4,
   "metadata": {},
   "outputs": [
    {
     "name": "stdout",
     "output_type": "stream",
     "text": [
      "<class 'pandas.core.frame.DataFrame'>\n",
      "RangeIndex: 284807 entries, 0 to 284806\n",
      "Data columns (total 31 columns):\n",
      " #   Column  Non-Null Count   Dtype  \n",
      "---  ------  --------------   -----  \n",
      " 0   Time    284807 non-null  float64\n",
      " 1   V1      284807 non-null  float64\n",
      " 2   V2      284807 non-null  float64\n",
      " 3   V3      284807 non-null  float64\n",
      " 4   V4      284807 non-null  float64\n",
      " 5   V5      284807 non-null  float64\n",
      " 6   V6      284807 non-null  float64\n",
      " 7   V7      284807 non-null  float64\n",
      " 8   V8      284807 non-null  float64\n",
      " 9   V9      284807 non-null  float64\n",
      " 10  V10     284807 non-null  float64\n",
      " 11  V11     284807 non-null  float64\n",
      " 12  V12     284807 non-null  float64\n",
      " 13  V13     284807 non-null  float64\n",
      " 14  V14     284807 non-null  float64\n",
      " 15  V15     284807 non-null  float64\n",
      " 16  V16     284807 non-null  float64\n",
      " 17  V17     284807 non-null  float64\n",
      " 18  V18     284807 non-null  float64\n",
      " 19  V19     284807 non-null  float64\n",
      " 20  V20     284807 non-null  float64\n",
      " 21  V21     284807 non-null  float64\n",
      " 22  V22     284807 non-null  float64\n",
      " 23  V23     284807 non-null  float64\n",
      " 24  V24     284807 non-null  float64\n",
      " 25  V25     284807 non-null  float64\n",
      " 26  V26     284807 non-null  float64\n",
      " 27  V27     284807 non-null  float64\n",
      " 28  V28     284807 non-null  float64\n",
      " 29  Amount  284807 non-null  float64\n",
      " 30  Class   284807 non-null  int64  \n",
      "dtypes: float64(30), int64(1)\n",
      "memory usage: 67.4 MB\n"
     ]
    }
   ],
   "source": [
    "# Thông tin metadata cơ bản\n",
    "transactions.info()"
   ]
  },
  {
   "cell_type": "code",
   "execution_count": 5,
   "metadata": {},
   "outputs": [
    {
     "data": {
      "text/plain": [
       "False"
      ]
     },
     "execution_count": 5,
     "metadata": {},
     "output_type": "execute_result"
    }
   ],
   "source": [
    "# Kiểm tra xem có dữ liệu nào bị mất không?\n",
    "transactions.isnull().any().any()"
   ]
  },
  {
   "cell_type": "code",
   "execution_count": 6,
   "metadata": {},
   "outputs": [
    {
     "data": {
      "text/plain": [
       "0    0.998273\n",
       "1    0.001727\n",
       "Name: Class, dtype: float64"
      ]
     },
     "execution_count": 6,
     "metadata": {},
     "output_type": "execute_result"
    }
   ],
   "source": [
    "# Tỉ lệ giữa các giao dịch bình thường và bất thường\n",
    "transactions['Class'].value_counts()\n",
    "transactions['Class'].value_counts(normalize=True)"
   ]
  },
  {
   "cell_type": "code",
   "execution_count": 7,
   "metadata": {},
   "outputs": [],
   "source": [
    "# Phân tách dataset\n",
    "X = transactions.drop(labels='Class', axis=1) # Features\n",
    "y = transactions.loc[:,'Class']               # Response\n",
    "del transactions                              # Xóa dữ liệu lúc đầu\n",
    "\n",
    "# Tách dataset thành 80% cho training và 20% cho test\n",
    "from sklearn.model_selection import train_test_split\n",
    "X_train, X_test, y_train, y_test = train_test_split(X, y, test_size=0.2, random_state=1, stratify=y)\n",
    "del X, y"
   ]
  },
  {
   "cell_type": "code",
   "execution_count": 8,
   "metadata": {},
   "outputs": [
    {
     "data": {
      "text/plain": [
       "(227845, 30)"
      ]
     },
     "execution_count": 8,
     "metadata": {},
     "output_type": "execute_result"
    }
   ],
   "source": [
    "X_train.shape"
   ]
  },
  {
   "cell_type": "code",
   "execution_count": 9,
   "metadata": {},
   "outputs": [
    {
     "data": {
      "text/plain": [
       "(56962, 30)"
      ]
     },
     "execution_count": 9,
     "metadata": {},
     "output_type": "execute_result"
    }
   ],
   "source": [
    "X_test.shape"
   ]
  },
  {
   "cell_type": "code",
   "execution_count": 10,
   "metadata": {},
   "outputs": [],
   "source": [
    "# Khai báo thư viện RandomForestClassifier\n",
    "from sklearn.ensemble import RandomForestClassifier"
   ]
  },
  {
   "cell_type": "code",
   "execution_count": 11,
   "metadata": {},
   "outputs": [
    {
     "data": {
      "text/plain": [
       "RandomForestClassifier(n_estimators=50)"
      ]
     },
     "execution_count": 11,
     "metadata": {},
     "output_type": "execute_result"
    }
   ],
   "source": [
    "# Training model\n",
    "classifier = RandomForestClassifier(n_estimators=50)\n",
    "classifier.fit(X_train, y_train)"
   ]
  },
  {
   "cell_type": "code",
   "execution_count": 12,
   "metadata": {},
   "outputs": [],
   "source": [
    "# Dự đoán cho bộ dữ liệu test\n",
    "y_pred = classifier.predict(X_test)"
   ]
  },
  {
   "cell_type": "code",
   "execution_count": 13,
   "metadata": {},
   "outputs": [
    {
     "name": "stdout",
     "output_type": "stream",
     "text": [
      "Confusion Matrix:\n",
      "[[56858     6]\n",
      " [   14    84]]\n",
      "Classification Report:\n",
      "              precision    recall  f1-score   support\n",
      "\n",
      "           0       1.00      1.00      1.00     56864\n",
      "           1       0.93      0.86      0.89        98\n",
      "\n",
      "    accuracy                           1.00     56962\n",
      "   macro avg       0.97      0.93      0.95     56962\n",
      "weighted avg       1.00      1.00      1.00     56962\n",
      "\n",
      "Accuracy: 0.9996488887328394\n"
     ]
    }
   ],
   "source": [
    "# Kết quả dự đoán\n",
    "from sklearn.metrics import classification_report, confusion_matrix, accuracy_score\n",
    "result = confusion_matrix(y_test, y_pred)\n",
    "print(\"Confusion Matrix:\")\n",
    "print(result)\n",
    "result1 = classification_report(y_test, y_pred)\n",
    "print(\"Classification Report:\",)\n",
    "print (result1)\n",
    "result2 = accuracy_score(y_test,y_pred)\n",
    "print(\"Accuracy:\",result2)"
   ]
  },
  {
   "cell_type": "code",
   "execution_count": null,
   "metadata": {},
   "outputs": [],
   "source": []
  }
 ],
 "metadata": {
  "kernelspec": {
   "display_name": "Python 3",
   "language": "python",
   "name": "python3"
  },
  "language_info": {
   "codemirror_mode": {
    "name": "ipython",
    "version": 3
   },
   "file_extension": ".py",
   "mimetype": "text/x-python",
   "name": "python",
   "nbconvert_exporter": "python",
   "pygments_lexer": "ipython3",
   "version": "3.8.3"
  }
 },
 "nbformat": 4,
 "nbformat_minor": 4
}
